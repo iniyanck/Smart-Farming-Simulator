{
 "cells": [
  {
   "cell_type": "code",
   "execution_count": null,
   "metadata": {},
   "outputs": [],
   "source": [
    "# Data Cleaning, Munging, and Transformation\n",
    "\n",
    "## 1. Import Libraries"
   ]
  },
  {
   "cell_type": "code",
   "execution_count": null,
   "metadata": {},
   "outputs": [],
   "source": [
    "import pandas as pd\n",
    "import numpy as np\n",
    "import matplotlib.pyplot as plt\n",
    "import seaborn as sns"
   ]
  },
  {
   "cell_type": "code",
   "execution_count": null,
   "metadata": {},
   "outputs": [],
   "source": [
    "## 2. Load Dataset"
   ]
  },
  {
   "cell_type": "code",
   "execution_count": null,
   "metadata": {},
   "outputs": [],
   "source": [
    "df = pd.read_csv('Crop_recommendationV2.csv')\n",
    "print(\"Dataset loaded successfully.\")"
   ]
  },
  {
   "cell_type": "code",
   "execution_count": null,
   "metadata": {},
   "outputs": [],
   "source": [
    "## 3. Initial Data Exploration"
   ]
  },
  {
   "cell_type": "code",
   "execution_count": null,
   "metadata": {},
   "outputs": [],
   "source": [
    "print(\"\\nFirst 5 rows of the dataset:\")\n",
    "display(df.head())\n",
    "\n",
    "print(\"\\nDataset Information:\")\n",
    "df.info()\n",
    "\n",
    "print(\"\\nDescriptive Statistics:\")\n",
    "display(df.describe())\n",
    "\n",
    "print(\"\\nDataset Shape:\", df.shape)"
   ]
  },
  {
   "cell_type": "code",
   "execution_count": null,
   "metadata": {},
   "outputs": [],
   "source": [
    "## 4. Data Cleaning: Handling Missing Values"
   ]
  },
  {
   "cell_type": "code",
   "execution_count": null,
   "metadata": {},
   "outputs": [],
   "source": [
    "print(\"\\nChecking for missing values:\")\n",
    "missing_values = df.isnull().sum()\n",
    "print(missing_values[missing_values > 0])\n",
    "\n",
    "if missing_values.sum() == 0:\n",
    "    print(\"No missing values found in the dataset.\")\n",
    "else:\n",
    "    print(\"\\nHandling missing values (example: dropping rows with any missing values):\")\n",
    "    df_cleaned = df.dropna()\n",
    "    print(\"Shape after dropping missing values:\", df_cleaned.shape)\n",
    "    print(\"Missing values after dropping:\", df_cleaned.isnull().sum().sum())\n",
    "    df = df_cleaned # Update df to the cleaned version\n",
    "\n",
    "print(\"\\nChecking for duplicate rows:\")\n",
    "duplicates = df.duplicated().sum()\n",
    "print(f\"Number of duplicate rows: {duplicates}\")\n",
    "if duplicates > 0:\n",
    "    print(\"Dropping duplicate rows...\")\n",
    "    df = df.drop_duplicates()\n",
    "    print(\"Shape after dropping duplicates:\", df.shape)"
   ]
  },
  {
   "cell_type": "code",
   "execution_count": null,
   "metadata": {},
   "outputs": [],
   "source": [
    "## 5. Data Transformation: Data Type Conversion"
   ]
  },
  {
   "cell_type": "code",
   "execution_count": null,
   "metadata": {},
   "outputs": [],
   "source": [
    "print(\"\\nCurrent data types:\")\n",
    "print(df.dtypes)\n",
    "\n",
    "# Example of converting a column to a specific type if needed\n",
    "# For instance, if 'N' was an object type and should be numeric:\n",
    "# df['N'] = pd.to_numeric(df['N'], errors='coerce')\n",
    "# print(\"\\nData types after potential conversion:\")\n",
    "# print(df.dtypes)"
   ]
  },
  {
   "cell_type": "code",
   "execution_count": null,
   "metadata": {},
   "outputs": [],
   "source": [
    "## 6. Data Munging: Basic Feature Engineering (Example)"
   ]
  },
  {
   "cell_type": "code",
   "execution_count": null,
   "metadata": {},
   "outputs": [],
   "source": [
    "# Example: Create a new feature 'NPK_Ratio' if N, P, K columns exist\n",
    "if all(col in df.columns for col in ['N', 'P', 'K']):\n",
    "    df['NPK_Ratio'] = (df['N'] + df['P'] + df['K']) / 3\n",
    "    print(\"\\n'NPK_Ratio' feature created. First 5 rows with new feature:\")\n",
    "    display(df[['N', 'P', 'K', 'NPK_Ratio']].head())\n",
    "else:\n",
    "    print(\"\\nN, P, or K columns not found for 'NPK_Ratio' feature engineering example.\")\n",
    "\n",
    "# Example: Binning a continuous variable (e.g., 'temperature')\n",
    "if 'temperature' in df.columns:\n",
    "    df['temperature_band'] = pd.cut(df['temperature'], bins=3, labels=['low', 'medium', 'high'])\n",
    "    print(\"\\n'temperature_band' feature created. Value counts:\")\n",
    "    print(df['temperature_band'].value_counts())\n",
    "else:\n",
    "    print(\"\\n'temperature' column not found for binning example.\")"
   ]
  },
  {
   "cell_type": "code",
   "execution_count": null,
   "metadata": {},
   "outputs": [],
   "source": [
    "## 7. Final Data Overview after Initial Phases"
   ]
  },
  {
   "cell_type": "code",
   "execution_count": null,
   "metadata": {},
   "outputs": [],
   "source": [
    "print(\"\\nFinal dataset head after initial cleaning and transformation:\")\n",
    "display(df.head())\n",
    "\n",
    "print(\"\\nFinal dataset info:\")\n",
    "df.info()"
   ]
  }
 ],
 "metadata": {
  "kernelspec": {
   "display_name": "Python 3",
   "language": "python",
   "name": "python3"
  },
  "language_info": {
   "codemirror_mode": {
    "name": "ipython",
    "version": 3
   },
   "file_extension": ".py",
   "mimetype": "text/x-python",
   "name": "python",
   "nbconvert_exporter": "python",
   "pygments_lexer": "ipython3",
   "version": "3.9.13"
  }
 },
 "nbformat": 4,
 "nbformat_minor": 4
}
